{
 "cells": [
  {
   "cell_type": "markdown",
   "id": "f2bf974c-fd2f-4da4-914e-beb5ef4b374f",
   "metadata": {},
   "source": [
    "# 1. 원하는 캐릭터 그림을 찾아 도트 아트로 변환후 출력 \n",
    "# https://snskeyboard.com/dotart/"
   ]
  },
  {
   "cell_type": "code",
   "execution_count": 5,
   "id": "7c69466a-b302-48e5-ba4e-aab6b817f115",
   "metadata": {},
   "outputs": [
    {
     "name": "stdout",
     "output_type": "stream",
     "text": [
      "⠀⠀⠀⠀⠀⠀⠀⠀⠀⠀⠀⠀⠀⠀⠀⠀⠀⠀⠀⠀⠀⠀⠀⣀⣀⣀⣀⡀⠀⠀⠀⠀⠀⠀⠀⠀⠀⠀⠀⠀⠀⠀⠀⠀\n",
      "⠀⠀⠀⠀⠀⠀⠀⠀⠀⠀⠀⠀⠀⠀⠀⠀⠀⣀⠤⠖⠚⠉⠉⠀⠀⠀⠀⠉⠉⠙⠒⠤⣄⡀⠀⠀⣀⣠⣤⣀⡀⠀⠀⠀\n",
      "⠀⠀⠀⠀⠀⠀⠀⠀⠀⠀⠀⠀⠀⠀⣠⠖⠉⠀⠀⠀⠀⠀⠀⠀⠀⠀⠀⠀⠀⠀⠀⠀⠀⠈⠛⢯⡀⠀⠀⠀⠉⠳⣄⠀\n",
      "⠀⠀⣀⠤⠔⠒⠒⠒⠦⢤⣀⢀⡴⠋⠀⠀⠀⠀⠀⠀⠀⠀⢠⣤⣄⠀⠀⠀⠀⠀⣴⢶⣄⠀⠀⠀⠉⢢⡀⠀⠀⠀⠘⡆\n",
      "⢠⠞⠁⠀⠀⠀⠀⠀⠀⠀⠈⢻⡀⠀⠀⠀⠀⠀⠀⠀⠀⢠⡟⠀⢹⣧⠀⠀⠀⠀⣿⠀⢹⣇⠀⠀⠀⠀⠙⢦⠀⠀⠀⣧\n",
      "⡏⠀⠀⠀⠀⠀⠀⠀⠀⠀⠀⢸⡇⠀⠀⠀⠀⠀⠀⠀⠀⢸⣿⣦⣼⣿⡇⠀⠀⠀⢿⣿⣿⣿⡄⠀⠀⠀⠀⠈⢳⡀⢀⡟\n",
      "⡇⠀⠀⠀⠀⠀⠀⠀⠀⠀⠀⡸⠁⠀⠀⠀⠀⠀⠀⠀⠀⠈⣿⡿⠿⠿⣿⠀⠀⠀⠘⣿⡛⣟⣧⠀⠀⠀⠀⠀⠀⢳⠞⠀\n",
      "⢳⠀⠀⠀⠀⠀⠀⠀⠀⠀⢠⠇⠀⠀⠀⠀⠀⠀⠀⠀⠀⠀⠘⣷⡄⢴⡿⠀⠀⠀⠀⠘⣿⣷⡏⠀⢀⡠⠤⣄⠀⠀⣇⠀\n",
      "⠀⢳⡀⠀⠀⠀⠀⠀⠀⢠⠏⠀⠀⠀⠀⠀⣠⠄⠀⠀⠀⠀⠀⠈⠛⠛⠁⣀⡤⠤⠤⠤⢌⣉⠀⠀⢠⡀⠀⠀⡱⠀⢸⡄\n",
      "⠀⠀⠙⠦⣀⠀⠀⠀⣰⠋⠀⠀⠀⠀⠀⠸⣅⠀⠀⢀⡀⠀⠀⠀⢀⠴⠋⠀⠀⠀⠀⠀⠀⠈⠳⣄⠀⠈⠉⠉⠀⠀⢘⣧\n",
      "⠀⠀⠀⠀⠈⠙⢲⠞⠁⠀⠀⠀⠀⠀⠀⠀⠀⠉⠉⠁⠀⠀⠀⣰⣋⣀⣀⣀⣀⠀⠀⠀⠀⠀⠀⠈⢧⠀⠀⠀⠀⠀⢐⣿\n",
      "⠀⠀⠀⠀⠀⠀⢸⠁⠀⠀⠀⠀⠀⠀⠀⠀⠀⠀⠀⠀⠀⠀⡰⠁⠀⠀⠀⠀⠀⠉⠙⠒⢤⣀⠀⠀⠈⣇⠀⠀⠀⠀⠀⣿\n",
      "⠀⠀⠀⠀⠀⠀⠘⡇⠀⠀⠀⠀⠀⠀⠀⠀⠀⠀⠀⠀⠀⢠⠇⠀⠀⠀⠀⠀⠀⠀⠀⠀⠀⠈⠳⣄⠀⢸⠀⠀⠀⠀⢠⡏\n",
      "⠀⠀⠀⠀⠀⠀⠀⢳⠀⠀⠀⠀⠀⠀⠀⠀⠀⠀⠀⠀⠀⣾⠀⠀⠀⠀⠀⠀⠀⠀⠀⠀⠀⠀⠀⠘⡆⠘⣧⠀⠀⠀⣸⠀\n",
      "⠀⠀⠀⠀⠀⠀⠀⡟⣆⠀⠀⠀⠀⠀⠀⠀⠀⠀⠀⠀⠀⡏⠀⠀⠀⠀⠀⠀⠀⠀⠀⠀⠀⠀⠀⠀⢱⢰⠏⠀⠀⢠⠇⠀\n",
      "⠀⠀⠀⠀⠀⠀⢸⠁⠘⣆⠀⠀⠀⠀⠀⠀⠀⠀⠀⠀⠀⣇⠀⠀⠀⠀⠀⠀⠀⠀⠀⠀⠀⠀⠀⠀⡼⣸⠀⠀⢀⠏⠀⠀\n",
      "⠀⠀⠀⠀⠀⠀⣿⠀⠀⠘⢆⠀⠀⠀⠀⠀⠀⠀⠀⠀⠀⢿⠀⠀⠀⠀⠀⠀⠀⠀⠀⠀⠀⠀⠀⡴⣣⠃⠀⣠⠏⠀⠀⠀\n",
      "⠀⠀⠀⠀⠀⠀⣿⠀⠀⠀⠈⠳⣄⠀⠀⠀⠀⠀⠀⠀⠀⠘⡆⠀⠀⠀⠀⠀⠀⠀⠀⠀⢀⡤⠞⡱⠋⢀⡴⠁⠀⠀⠀⠀\n",
      "⠀⠀⠀⠀⠀⠀⣿⠀⠀⠀⠀⠀⠈⠣⣄⠀⠀⠀⠀⠀⠀⠀⠹⣄⠀⠀⠀⠀⢀⣀⡤⠖⢋⡠⠞⢁⡴⠋⡇⠀⠀⠀⠀⠀\n",
      "⠀⠀⠀⠀⠀⠀⠸⡄⠀⠀⠀⠀⠀⠀⠈⠙⠢⣄⡀⠀⠀⠀⠀⠈⠙⠯⠭⢉⠡⠤⠴⠒⣉⠴⠚⠁⠀⢰⠃⠀⠀⠀⠀⠀\n",
      "⠀⠀⠀⠀⠀⠀⠀⢳⡀⠀⠀⠀⠀⠀⠀⠀⠀⠀⠈⢹⠖⠲⠤⠤⠤⠤⠤⠤⢶⡖⠚⠉⠀⠀⠀⠀⢀⡞⠀⠀⠀⠀⠀⠀\n",
      "⠀⠀⠀⠀⠀⠀⠀⠀⢳⡀⠀⠀⠀⠀⠀⠀⠀⠀⡰⠋⠀⠀⠀⠀⠀⠀⠀⠀⠀⠙⠲⠤⠤⠤⠤⠔⠋⠀⠀⠀⠀⠀⠀⠀\n",
      "⠀⠀⠀⠀⠀⠀⠀⠀⠀⠙⢤⡀⠀⠀⠀⠀⣠⠞⠁⠀⠀⠀⠀⠀⠀⠀⠀⠀⠀⠀⠀⠀⠀⠀⠀⠀⠀⠀⠀⠀⠀⠀⠀⠀\n",
      "⠀⠀⠀⠀⠀⠀⠀⠀⠀⠀⠀⠛⠑⠒⠒⠋⠂⠐⠒⠀⠀⠒⠀⠀⠀⠀⠀⠀⠀⠀⠀⠀⠀⠀⠀⠀⠀⠀⠀⠀⠀⠀⠀⠀\n",
      "Jelly fellowa, I play this character on Super Smash Bros Ultimate, I wish This Character Game(Kirby Return to Dreamland Deluxe / 별의 커비 wii 디럭스 or Kirby's Forgetten Land / 별의커비 디스커버리)\n"
     ]
    }
   ],
   "source": [
    "print(\"\"\"⠀⠀⠀⠀⠀⠀⠀⠀⠀⠀⠀⠀⠀⠀⠀⠀⠀⠀⠀⠀⠀⠀⠀⣀⣀⣀⣀⡀⠀⠀⠀⠀⠀⠀⠀⠀⠀⠀⠀⠀⠀⠀⠀⠀\n",
    "⠀⠀⠀⠀⠀⠀⠀⠀⠀⠀⠀⠀⠀⠀⠀⠀⠀⣀⠤⠖⠚⠉⠉⠀⠀⠀⠀⠉⠉⠙⠒⠤⣄⡀⠀⠀⣀⣠⣤⣀⡀⠀⠀⠀\n",
    "⠀⠀⠀⠀⠀⠀⠀⠀⠀⠀⠀⠀⠀⠀⣠⠖⠉⠀⠀⠀⠀⠀⠀⠀⠀⠀⠀⠀⠀⠀⠀⠀⠀⠈⠛⢯⡀⠀⠀⠀⠉⠳⣄⠀\n",
    "⠀⠀⣀⠤⠔⠒⠒⠒⠦⢤⣀⢀⡴⠋⠀⠀⠀⠀⠀⠀⠀⠀⢠⣤⣄⠀⠀⠀⠀⠀⣴⢶⣄⠀⠀⠀⠉⢢⡀⠀⠀⠀⠘⡆\n",
    "⢠⠞⠁⠀⠀⠀⠀⠀⠀⠀⠈⢻⡀⠀⠀⠀⠀⠀⠀⠀⠀⢠⡟⠀⢹⣧⠀⠀⠀⠀⣿⠀⢹⣇⠀⠀⠀⠀⠙⢦⠀⠀⠀⣧\n",
    "⡏⠀⠀⠀⠀⠀⠀⠀⠀⠀⠀⢸⡇⠀⠀⠀⠀⠀⠀⠀⠀⢸⣿⣦⣼⣿⡇⠀⠀⠀⢿⣿⣿⣿⡄⠀⠀⠀⠀⠈⢳⡀⢀⡟\n",
    "⡇⠀⠀⠀⠀⠀⠀⠀⠀⠀⠀⡸⠁⠀⠀⠀⠀⠀⠀⠀⠀⠈⣿⡿⠿⠿⣿⠀⠀⠀⠘⣿⡛⣟⣧⠀⠀⠀⠀⠀⠀⢳⠞⠀\n",
    "⢳⠀⠀⠀⠀⠀⠀⠀⠀⠀⢠⠇⠀⠀⠀⠀⠀⠀⠀⠀⠀⠀⠘⣷⡄⢴⡿⠀⠀⠀⠀⠘⣿⣷⡏⠀⢀⡠⠤⣄⠀⠀⣇⠀\n",
    "⠀⢳⡀⠀⠀⠀⠀⠀⠀⢠⠏⠀⠀⠀⠀⠀⣠⠄⠀⠀⠀⠀⠀⠈⠛⠛⠁⣀⡤⠤⠤⠤⢌⣉⠀⠀⢠⡀⠀⠀⡱⠀⢸⡄\n",
    "⠀⠀⠙⠦⣀⠀⠀⠀⣰⠋⠀⠀⠀⠀⠀⠸⣅⠀⠀⢀⡀⠀⠀⠀⢀⠴⠋⠀⠀⠀⠀⠀⠀⠈⠳⣄⠀⠈⠉⠉⠀⠀⢘⣧\n",
    "⠀⠀⠀⠀⠈⠙⢲⠞⠁⠀⠀⠀⠀⠀⠀⠀⠀⠉⠉⠁⠀⠀⠀⣰⣋⣀⣀⣀⣀⠀⠀⠀⠀⠀⠀⠈⢧⠀⠀⠀⠀⠀⢐⣿\n",
    "⠀⠀⠀⠀⠀⠀⢸⠁⠀⠀⠀⠀⠀⠀⠀⠀⠀⠀⠀⠀⠀⠀⡰⠁⠀⠀⠀⠀⠀⠉⠙⠒⢤⣀⠀⠀⠈⣇⠀⠀⠀⠀⠀⣿\n",
    "⠀⠀⠀⠀⠀⠀⠘⡇⠀⠀⠀⠀⠀⠀⠀⠀⠀⠀⠀⠀⠀⢠⠇⠀⠀⠀⠀⠀⠀⠀⠀⠀⠀⠈⠳⣄⠀⢸⠀⠀⠀⠀⢠⡏\n",
    "⠀⠀⠀⠀⠀⠀⠀⢳⠀⠀⠀⠀⠀⠀⠀⠀⠀⠀⠀⠀⠀⣾⠀⠀⠀⠀⠀⠀⠀⠀⠀⠀⠀⠀⠀⠘⡆⠘⣧⠀⠀⠀⣸⠀\n",
    "⠀⠀⠀⠀⠀⠀⠀⡟⣆⠀⠀⠀⠀⠀⠀⠀⠀⠀⠀⠀⠀⡏⠀⠀⠀⠀⠀⠀⠀⠀⠀⠀⠀⠀⠀⠀⢱⢰⠏⠀⠀⢠⠇⠀\n",
    "⠀⠀⠀⠀⠀⠀⢸⠁⠘⣆⠀⠀⠀⠀⠀⠀⠀⠀⠀⠀⠀⣇⠀⠀⠀⠀⠀⠀⠀⠀⠀⠀⠀⠀⠀⠀⡼⣸⠀⠀⢀⠏⠀⠀\n",
    "⠀⠀⠀⠀⠀⠀⣿⠀⠀⠘⢆⠀⠀⠀⠀⠀⠀⠀⠀⠀⠀⢿⠀⠀⠀⠀⠀⠀⠀⠀⠀⠀⠀⠀⠀⡴⣣⠃⠀⣠⠏⠀⠀⠀\n",
    "⠀⠀⠀⠀⠀⠀⣿⠀⠀⠀⠈⠳⣄⠀⠀⠀⠀⠀⠀⠀⠀⠘⡆⠀⠀⠀⠀⠀⠀⠀⠀⠀⢀⡤⠞⡱⠋⢀⡴⠁⠀⠀⠀⠀\n",
    "⠀⠀⠀⠀⠀⠀⣿⠀⠀⠀⠀⠀⠈⠣⣄⠀⠀⠀⠀⠀⠀⠀⠹⣄⠀⠀⠀⠀⢀⣀⡤⠖⢋⡠⠞⢁⡴⠋⡇⠀⠀⠀⠀⠀\n",
    "⠀⠀⠀⠀⠀⠀⠸⡄⠀⠀⠀⠀⠀⠀⠈⠙⠢⣄⡀⠀⠀⠀⠀⠈⠙⠯⠭⢉⠡⠤⠴⠒⣉⠴⠚⠁⠀⢰⠃⠀⠀⠀⠀⠀\n",
    "⠀⠀⠀⠀⠀⠀⠀⢳⡀⠀⠀⠀⠀⠀⠀⠀⠀⠀⠈⢹⠖⠲⠤⠤⠤⠤⠤⠤⢶⡖⠚⠉⠀⠀⠀⠀⢀⡞⠀⠀⠀⠀⠀⠀\n",
    "⠀⠀⠀⠀⠀⠀⠀⠀⢳⡀⠀⠀⠀⠀⠀⠀⠀⠀⡰⠋⠀⠀⠀⠀⠀⠀⠀⠀⠀⠙⠲⠤⠤⠤⠤⠔⠋⠀⠀⠀⠀⠀⠀⠀\n",
    "⠀⠀⠀⠀⠀⠀⠀⠀⠀⠙⢤⡀⠀⠀⠀⠀⣠⠞⠁⠀⠀⠀⠀⠀⠀⠀⠀⠀⠀⠀⠀⠀⠀⠀⠀⠀⠀⠀⠀⠀⠀⠀⠀⠀\n",
    "⠀⠀⠀⠀⠀⠀⠀⠀⠀⠀⠀⠛⠑⠒⠒⠋⠂⠐⠒⠀⠀⠒⠀⠀⠀⠀⠀⠀⠀⠀⠀⠀⠀⠀⠀⠀⠀⠀⠀⠀⠀⠀⠀⠀\"\"\")\n",
    "\n",
    "print(\"Jelly fellowa, I play this character on Super Smash Bros Ultimate, I wish This Character Game(Kirby Return to Dreamland Deluxe / 별의 커비 wii 디럭스 or Kirby's Forgetten Land / 별의커비 디스커버리)\")"
   ]
  },
  {
   "cell_type": "markdown",
   "id": "00340160-14e1-4f1b-ae87-a3d2f61e8acc",
   "metadata": {},
   "source": [
    "# 2. 학번과 이름을 입력 받아 출력하세요.\n",
    "# 변수명 : number, name "
   ]
  },
  {
   "cell_type": "code",
   "execution_count": 6,
   "id": "13e5fef7-6b8b-45eb-a75d-b8ea8dd628b0",
   "metadata": {},
   "outputs": [
    {
     "name": "stdout",
     "output_type": "stream",
     "text": [
      "19 이준형\n"
     ]
    }
   ],
   "source": [
    "print(\"19\", \"이준형\")"
   ]
  },
  {
   "cell_type": "markdown",
   "id": "5ccc5f6e-1df4-4438-9b39-4d2aa92177a6",
   "metadata": {},
   "source": [
    "# 3. 정수 두개를 입력받아 연산을 출력하세요.[ +, -, *, **, /, //, % ]\n",
    "# 변수명: num1, num2"
   ]
  },
  {
   "cell_type": "code",
   "execution_count": 4,
   "id": "1230cc6a-eafe-45dd-830c-dc74e9ba356e",
   "metadata": {},
   "outputs": [
    {
     "name": "stdin",
     "output_type": "stream",
     "text": [
      " 25\n",
      " 5\n"
     ]
    },
    {
     "name": "stdout",
     "output_type": "stream",
     "text": [
      "30\n",
      "20\n",
      "125\n",
      "9765625\n",
      "5.0\n",
      "5\n",
      "0\n"
     ]
    }
   ],
   "source": [
    "num1 = int(input())\n",
    "num2 = int(input())\n",
    "print(num1+num2)\n",
    "print(num1-num2)\n",
    "print(num1*num2)\n",
    "print(num1**num2)\n",
    "print(num1/num2)\n",
    "print(num1//num2)\n",
    "print(num1%num2)\n"
   ]
  },
  {
   "cell_type": "markdown",
   "id": "5bcc653f-5397-4be9-984e-e0909f7c70b1",
   "metadata": {},
   "source": [
    "# 4. 두 수를 문자열로 한줄애 입력 받아 정수로 변환후 연산을 출력하세요.\n",
    "# [ +, -, *, **,  /, //, % ]\n",
    "# 변수명\n",
    "# num1, num2"
   ]
  },
  {
   "cell_type": "code",
   "execution_count": 2,
   "id": "2f67d42d-ce63-4a3b-8678-1ae3ae80ca9a",
   "metadata": {},
   "outputs": [
    {
     "name": "stdin",
     "output_type": "stream",
     "text": [
      " 25 5\n"
     ]
    },
    {
     "name": "stdout",
     "output_type": "stream",
     "text": [
      "30\n",
      "20\n",
      "125\n",
      "9765625\n",
      "5.0\n",
      "5\n",
      "0\n"
     ]
    }
   ],
   "source": [
    "[num1,num2] = map(int,input().split())\n",
    "print(num1+num2)\n",
    "print(num1-num2)\n",
    "print(num1*num2)\n",
    "print(num1**num2)\n",
    "print(num1/num2)\n",
    "print(num1//num2)\n",
    "print(num1%num2)\n"
   ]
  },
  {
   "cell_type": "markdown",
   "id": "22096c58-1dbe-4bcb-9bad-fde771cddc1f",
   "metadata": {},
   "source": [
    "#  5. 세 수 를 문자열로 한줄애 입력 받아 각각 실수, 정수, 문자열로 변경후 변수의 타입을 확인하세요.\n",
    "# 변수명\n",
    "# text1, text2, text3"
   ]
  },
  {
   "cell_type": "code",
   "execution_count": 7,
   "id": "a91852aa-3198-4ddd-8177-f76948a25965",
   "metadata": {},
   "outputs": [
    {
     "name": "stdin",
     "output_type": "stream",
     "text": [
      " 2 2 2\n"
     ]
    },
    {
     "name": "stdout",
     "output_type": "stream",
     "text": [
      "<class 'int'>\n",
      "<class 'float'>\n",
      "<class 'str'>\n"
     ]
    }
   ],
   "source": [
    "[text1,text2,text3] = map(str,input().split())\n",
    "text1 = int(text1)\n",
    "text2 = float(text2)\n",
    "text3 = str(text3)\n",
    "print(type(text1))\n",
    "print(type(text2))\n",
    "print(type(text3))"
   ]
  },
  {
   "cell_type": "markdown",
   "id": "dc73da99-0473-4ab7-bcf2-22bfcb2d231d",
   "metadata": {},
   "source": [
    "# 6. 두 정수를 한줄에 입력 받아 모든 비교 연산자를 사용해 결과를 출력하세요[ <, >, <=, >=, == ]\n",
    "# 변수명\n",
    "# n1, n2"
   ]
  },
  {
   "cell_type": "code",
   "execution_count": 9,
   "id": "165b874a-6161-4dd2-8e40-751dd8d5b041",
   "metadata": {},
   "outputs": [
    {
     "name": "stdin",
     "output_type": "stream",
     "text": [
      " 25\n",
      " 5\n"
     ]
    },
    {
     "name": "stdout",
     "output_type": "stream",
     "text": [
      ">\n"
     ]
    }
   ],
   "source": [
    "n1 = int(input())\n",
    "n2 = int(input())\n",
    "\n",
    "if n1 < n2:\n",
    "    print(\"<\")\n",
    "elif n1 > n2:\n",
    "    print(\">\")\n",
    "elif n1 <- n2:\n",
    "    print(\"<=\")\n",
    "elif n1 >= n2:\n",
    "    print(\">=\")\n",
    "elif n1 == n2:\n",
    "    print(\"==\")"
   ]
  },
  {
   "cell_type": "markdown",
   "id": "b039635c-0b8d-4d96-8bf1-2ee99247fbd5",
   "metadata": {},
   "source": [
    "# 7. 이동거리를 입력받아 어떤 이동수단을 이용하면될지 정해주는 프로그램을 작성하세요.\n",
    "# 2km이하: 도보 / 10km이하 : 자전거 / 100km이하: 자동차 / 100km초과: 비행기\n",
    "# 변수명: km"
   ]
  },
  {
   "cell_type": "code",
   "execution_count": null,
   "id": "4ad3d74e-f98b-4004-b508-9a02d13b80be",
   "metadata": {},
   "outputs": [],
   "source": [
    "km = int(input())\n",
    "\n",
    "if 2 > km:\n",
    "    print(\"도보\")\n",
    "elif 10 > km:\n",
    "    print(\"자전거\")\n",
    "elif 100 > km:\n",
    "    print(\"자동차\")\n",
    "elif 100 < km:\n",
    "    print(\"비행기\")\n",
    "\n"
   ]
  },
  {
   "cell_type": "markdown",
   "id": "3508f5a3-19c4-4ad2-b7f4-b321e2e061ed",
   "metadata": {},
   "source": [
    "# 8. quest리스트를 만들어 [슬라임, 고블린, 오크, 드래곤, 스켈레톤, 마을주민]을 저장하고 \n",
    "# 마을주민을 리스트에서 삭제하고 마녀를 리스트에 추가하세요."
   ]
  },
  {
   "cell_type": "code",
   "execution_count": 11,
   "id": "90da7c9b-60c9-4e27-898f-9a80cbc69727",
   "metadata": {},
   "outputs": [
    {
     "name": "stdout",
     "output_type": "stream",
     "text": [
      "['슬라임', '고블린', '오크', '드래곤', '스켈레톤', '마녀']\n"
     ]
    }
   ],
   "source": [
    "quest = [\"슬라임\",\"고블린\",\"오크\",\"드래곤\",\"스켈레톤\",\"마을주민\"]\n",
    "quest.remove(\"마을주민\")\n",
    "quest.append(\"마녀\")\n",
    "print(quest)"
   ]
  },
  {
   "cell_type": "markdown",
   "id": "70ec2d94-58c8-4c41-969a-e25306429353",
   "metadata": {},
   "source": [
    "# 9.quest리스트를 만들어 [슬라임, 고블린, 오크, 드래곤, 스켈레톤, 마녀]을 저장하고 드래곤에서 슬라임 까지만 출력하세요"
   ]
  },
  {
   "cell_type": "code",
   "execution_count": 41,
   "id": "55a26cf0-8782-4363-b247-bb6e830f7bb5",
   "metadata": {},
   "outputs": [
    {
     "name": "stdout",
     "output_type": "stream",
     "text": [
      "['드래곤', '스켈레톤', '마녀']['슬라임']\n"
     ]
    }
   ],
   "source": [
    "quest = ['슬라임', '고블린', '오크', '드래곤', '스켈레톤', '마녀']\n",
    "\n",
    "print( str(quest[3:]) + str(quest[:1:]))"
   ]
  },
  {
   "cell_type": "markdown",
   "id": "82f86d9e-e8f2-45e4-a823-282e4c09eba2",
   "metadata": {},
   "source": [
    "# 10. 튜플을 만들고 타입을 출력하세요.\n",
    "# 변수명: t"
   ]
  },
  {
   "cell_type": "code",
   "execution_count": 42,
   "id": "e638df2f-bb04-4c1b-8b69-4fa24a928c0f",
   "metadata": {},
   "outputs": [
    {
     "name": "stdout",
     "output_type": "stream",
     "text": [
      "<class 'tuple'>\n"
     ]
    }
   ],
   "source": [
    "t = (\"Tu\" , 1, 1)\n",
    "print(type(t))"
   ]
  },
  {
   "cell_type": "markdown",
   "id": "64eacc4e-c078-4a5a-a38f-cf2ad79412ce",
   "metadata": {},
   "source": [
    "# 11. 딕셔너리를 만들고 타입과 내용 하나를 출력하세요.\n",
    "# 변수명 : d"
   ]
  },
  {
   "cell_type": "code",
   "execution_count": 44,
   "id": "3db201e7-6916-4b3c-9624-dc84bb2d5d6e",
   "metadata": {},
   "outputs": [
    {
     "name": "stdout",
     "output_type": "stream",
     "text": [
      "<class 'dict'> {'CF': 'BAN', 'PT': 'LS', 'RY': 'PN'}\n"
     ]
    }
   ],
   "source": [
    "d = {\n",
    "    \"CF\": \"BAN\",\n",
    "    \"PT\": \"LS\",\n",
    "    \"RY\": \"PN\",\n",
    "}\n",
    "print(type(d),d)"
   ]
  },
  {
   "cell_type": "markdown",
   "id": "edc83830-a235-42d1-82b6-dbaa359b2d91",
   "metadata": {},
   "source": [
    "#  12. for문을 사용하여 1~10을 한줄에 출력하세요."
   ]
  },
  {
   "cell_type": "code",
   "execution_count": null,
   "id": "3b9fa4b3-2517-4c82-b19e-5ac9b1505bd2",
   "metadata": {},
   "outputs": [],
   "source": [
    "for i in range(1,10):\n",
    "    print(i)"
   ]
  },
  {
   "cell_type": "markdown",
   "id": "faf5c0f4-5c83-43aa-831f-6aae03dc329e",
   "metadata": {},
   "source": [
    "# 13. for문을 이용하여 1~n까지 더하는 코드를 작성하세요.\n",
    "변수명 : sum, n"
   ]
  },
  {
   "cell_type": "code",
   "execution_count": 48,
   "id": "46b79aa9-5c50-4c07-a3af-4e9c5d6440df",
   "metadata": {},
   "outputs": [
    {
     "name": "stdout",
     "output_type": "stream",
     "text": [
      "1\n",
      "3\n",
      "6\n",
      "10\n",
      "15\n",
      "21\n",
      "28\n",
      "36\n",
      "45\n",
      "55\n",
      "66\n",
      "78\n",
      "91\n",
      "105\n",
      "120\n",
      "136\n",
      "153\n",
      "171\n",
      "190\n",
      "210\n",
      "231\n",
      "253\n",
      "276\n",
      "300\n"
     ]
    }
   ],
   "source": [
    "sum = 0\n",
    "n = 25\n",
    "for i in range(1,n):\n",
    "    sum+=i\n",
    "    print(sum)"
   ]
  },
  {
   "cell_type": "markdown",
   "id": "78070dc4-5a38-4972-9e8c-0e09b1820b27",
   "metadata": {},
   "source": [
    "# 14. for문을 사용하여 구구단을 출력하세요.\n",
    "# 변수명: gugu, dan"
   ]
  },
  {
   "cell_type": "code",
   "execution_count": 54,
   "id": "087f6ffc-eb73-4d0d-82d3-5b71b9cfd51a",
   "metadata": {},
   "outputs": [
    {
     "name": "stdout",
     "output_type": "stream",
     "text": [
      "\n",
      "2 * 1 = 2\n",
      "2 * 2 = 4\n",
      "2 * 3 = 6\n",
      "2 * 4 = 8\n",
      "2 * 5 = 10\n",
      "2 * 6 = 12\n",
      "2 * 7 = 14\n",
      "2 * 8 = 16\n",
      "2 * 9 = 18\n",
      "\n",
      "3 * 1 = 3\n",
      "3 * 2 = 6\n",
      "3 * 3 = 9\n",
      "3 * 4 = 12\n",
      "3 * 5 = 15\n",
      "3 * 6 = 18\n",
      "3 * 7 = 21\n",
      "3 * 8 = 24\n",
      "3 * 9 = 27\n",
      "\n",
      "4 * 1 = 4\n",
      "4 * 2 = 8\n",
      "4 * 3 = 12\n",
      "4 * 4 = 16\n",
      "4 * 5 = 20\n",
      "4 * 6 = 24\n",
      "4 * 7 = 28\n",
      "4 * 8 = 32\n",
      "4 * 9 = 36\n",
      "\n",
      "5 * 1 = 5\n",
      "5 * 2 = 10\n",
      "5 * 3 = 15\n",
      "5 * 4 = 20\n",
      "5 * 5 = 25\n",
      "5 * 6 = 30\n",
      "5 * 7 = 35\n",
      "5 * 8 = 40\n",
      "5 * 9 = 45\n",
      "\n",
      "6 * 1 = 6\n",
      "6 * 2 = 12\n",
      "6 * 3 = 18\n",
      "6 * 4 = 24\n",
      "6 * 5 = 30\n",
      "6 * 6 = 36\n",
      "6 * 7 = 42\n",
      "6 * 8 = 48\n",
      "6 * 9 = 54\n",
      "\n",
      "7 * 1 = 7\n",
      "7 * 2 = 14\n",
      "7 * 3 = 21\n",
      "7 * 4 = 28\n",
      "7 * 5 = 35\n",
      "7 * 6 = 42\n",
      "7 * 7 = 49\n",
      "7 * 8 = 56\n",
      "7 * 9 = 63\n",
      "\n",
      "8 * 1 = 8\n",
      "8 * 2 = 16\n",
      "8 * 3 = 24\n",
      "8 * 4 = 32\n",
      "8 * 5 = 40\n",
      "8 * 6 = 48\n",
      "8 * 7 = 56\n",
      "8 * 8 = 64\n",
      "8 * 9 = 72\n",
      "\n",
      "9 * 1 = 9\n",
      "9 * 2 = 18\n",
      "9 * 3 = 27\n",
      "9 * 4 = 36\n",
      "9 * 5 = 45\n",
      "9 * 6 = 54\n",
      "9 * 7 = 63\n",
      "9 * 8 = 72\n",
      "9 * 9 = 81\n"
     ]
    }
   ],
   "source": [
    "for gugu in range(2,10):\n",
    "    print()\n",
    "    for dan in range(1,10):\n",
    "        print(gugu,\"*\",dan,\"=\",gugu*dan)"
   ]
  },
  {
   "cell_type": "markdown",
   "id": "5814986a-d7c3-40fa-abdd-35e342c3b0ec",
   "metadata": {},
   "source": [
    "# 15. 구구단을 가로로 츨력하세요."
   ]
  },
  {
   "cell_type": "code",
   "execution_count": 55,
   "id": "d36524fe-2528-42c1-aa88-56e0cc7cac4f",
   "metadata": {},
   "outputs": [
    {
     "name": "stdout",
     "output_type": "stream",
     "text": [
      "2 * 1 = 2, 2 * 2 = 4, 2 * 3 = 6, 2 * 4 = 8, 2 * 5 = 10, 2 * 6 = 12, 2 * 7 = 14, 2 * 8 = 16, 2 * 9 = 18, 3 * 1 = 3, 3 * 2 = 6, 3 * 3 = 9, 3 * 4 = 12, 3 * 5 = 15, 3 * 6 = 18, 3 * 7 = 21, 3 * 8 = 24, 3 * 9 = 27, 4 * 1 = 4, 4 * 2 = 8, 4 * 3 = 12, 4 * 4 = 16, 4 * 5 = 20, 4 * 6 = 24, 4 * 7 = 28, 4 * 8 = 32, 4 * 9 = 36, 5 * 1 = 5, 5 * 2 = 10, 5 * 3 = 15, 5 * 4 = 20, 5 * 5 = 25, 5 * 6 = 30, 5 * 7 = 35, 5 * 8 = 40, 5 * 9 = 45, 6 * 1 = 6, 6 * 2 = 12, 6 * 3 = 18, 6 * 4 = 24, 6 * 5 = 30, 6 * 6 = 36, 6 * 7 = 42, 6 * 8 = 48, 6 * 9 = 54, 7 * 1 = 7, 7 * 2 = 14, 7 * 3 = 21, 7 * 4 = 28, 7 * 5 = 35, 7 * 6 = 42, 7 * 7 = 49, 7 * 8 = 56, 7 * 9 = 63, 8 * 1 = 8, 8 * 2 = 16, 8 * 3 = 24, 8 * 4 = 32, 8 * 5 = 40, 8 * 6 = 48, 8 * 7 = 56, 8 * 8 = 64, 8 * 9 = 72, 9 * 1 = 9, 9 * 2 = 18, 9 * 3 = 27, 9 * 4 = 36, 9 * 5 = 45, 9 * 6 = 54, 9 * 7 = 63, 9 * 8 = 72, 9 * 9 = 81, "
     ]
    }
   ],
   "source": [
    "for gugu in range(2,10):\n",
    "    for dan in range(1,10):\n",
    "        print(gugu,\"*\",dan,\"=\",gugu*dan, end=\", \")"
   ]
  },
  {
   "cell_type": "markdown",
   "id": "aeae5eac-ae05-4bc2-beb7-dcad64fa7b4f",
   "metadata": {},
   "source": [
    "# 16. 1부터 n까지의수중 홀수만 더하는 코드를 작성하세요.\n",
    "# 변수명: n,i,sum"
   ]
  },
  {
   "cell_type": "code",
   "execution_count": 57,
   "id": "5a629762-f0c7-4cf5-8e9e-5836b820cd70",
   "metadata": {},
   "outputs": [
    {
     "name": "stdout",
     "output_type": "stream",
     "text": [
      "81\n"
     ]
    }
   ],
   "source": [
    "sum = 0\n",
    "n = 19\n",
    "for i in range(1, n):\n",
    "    if i % 2:\n",
    "        sum+=i\n",
    "\n",
    "print(sum)"
   ]
  },
  {
   "cell_type": "markdown",
   "id": "c9c7899b-0dbd-43da-9f86-a8ebe84a484d",
   "metadata": {},
   "source": [
    "# 17. 리스트에서 2의배수를 가져와 새 리스트를 생성하세요.\n",
    "# 변수명 : nums, result, num"
   ]
  },
  {
   "cell_type": "code",
   "execution_count": 62,
   "id": "ddb7b7cc-a4df-427e-ac87-aa5d405e3d77",
   "metadata": {},
   "outputs": [
    {
     "name": "stdout",
     "output_type": "stream",
     "text": [
      "[2, 4, 6, 8, 10]\n"
     ]
    }
   ],
   "source": [
    "result = []\n",
    "nums = [1,2,3,4,5,6,7,8,9,10]\n",
    "for num in nums:\n",
    "    if num % 2 == 0:\n",
    "        result.append(num)\n",
    "print(result)"
   ]
  },
  {
   "cell_type": "markdown",
   "id": "abb16e67-d18f-439e-815c-ff34f0be1aa9",
   "metadata": {},
   "source": [
    "# 18.정수n을 입력받아고 그 수를 뒤에서부터 한줄로 출력하세요.\n",
    "# 변수명: n,l,i,rnum"
   ]
  },
  {
   "cell_type": "code",
   "execution_count": 189,
   "id": "37fb7460-c316-467c-866d-eb2751845c95",
   "metadata": {},
   "outputs": [
    {
     "name": "stdin",
     "output_type": "stream",
     "text": [
      " 12345\n"
     ]
    },
    {
     "name": "stdout",
     "output_type": "stream",
     "text": [
      "54321"
     ]
    }
   ],
   "source": [
    "n = int(input())\n",
    "l = len(str(n))\n",
    "for i in range(l, 0, -1):\n",
    "    rnum = n % 10\n",
    "    print(rnum, end=\"\")\n",
    "    n //= 10"
   ]
  },
  {
   "cell_type": "markdown",
   "id": "27e059ae-8684-4d6c-aa17-21ef5a54e6c9",
   "metadata": {},
   "source": [
    "# 19.문자열 text를 입력받아고 뒤에서부터 한줄로 출력하세요.\n",
    "# 변수명: text"
   ]
  },
  {
   "cell_type": "code",
   "execution_count": 68,
   "id": "acffb10e-805a-400e-96b9-7717c5c4fa34",
   "metadata": {},
   "outputs": [
    {
     "name": "stdout",
     "output_type": "stream",
     "text": [
      "t\n",
      "e\n",
      "x\n",
      "t\n"
     ]
    }
   ],
   "source": [
    "text = \"text\"\n",
    "for i in range(len(text)):\n",
    "    print(text[i])"
   ]
  },
  {
   "cell_type": "markdown",
   "id": "92be6e32-4cb4-474a-a57c-802a69c267a6",
   "metadata": {},
   "source": [
    "# 20.while로 1~n까지 더하기를 하는 코드를 작성하세요.\n",
    "# 변수명: 자유"
   ]
  },
  {
   "cell_type": "code",
   "execution_count": 70,
   "id": "9edd0963-8ce2-44f1-9a1e-310d26830b18",
   "metadata": {},
   "outputs": [
    {
     "name": "stdout",
     "output_type": "stream",
     "text": [
      "19\n"
     ]
    }
   ],
   "source": [
    "n = 19\n",
    "countach = 0\n",
    "while countach != n:\n",
    "    countach+=1\n",
    "    \n",
    "print(countach)"
   ]
  },
  {
   "cell_type": "markdown",
   "id": "76c74678-0560-4d06-989c-d551477dd173",
   "metadata": {},
   "source": [
    "# 21. 짝수만 더하기 0입력시 종료하는 코드를 작성하세요\n",
    "# 변수명: 자유"
   ]
  },
  {
   "cell_type": "code",
   "execution_count": 74,
   "id": "c3c217f8-e13d-40c5-b03f-bca3c87e52c1",
   "metadata": {},
   "outputs": [
    {
     "name": "stdin",
     "output_type": "stream",
     "text": [
      " 4\n",
      " 8\n",
      " 4\n",
      " 2\n",
      " 0\n"
     ]
    },
    {
     "name": "stdout",
     "output_type": "stream",
     "text": [
      "18\n"
     ]
    }
   ],
   "source": [
    "texta = 2\n",
    "res = 0\n",
    "while texta != 0:\n",
    "    texta = int(input())\n",
    "    if not (texta % 2):\n",
    "        res+=texta\n",
    "print(res)"
   ]
  },
  {
   "cell_type": "markdown",
   "id": "eed1a605-02b1-43da-b44e-8489bec7d11c",
   "metadata": {},
   "source": [
    "# 22.  비밀번호 맞추기(기회 제한)을 할수있는 코드를 작성하세요.\n",
    "# 변수명: 자유"
   ]
  },
  {
   "cell_type": "code",
   "execution_count": 77,
   "id": "1c5ce47f-d83c-4ead-b039-ca883d26b06e",
   "metadata": {},
   "outputs": [
    {
     "name": "stdin",
     "output_type": "stream",
     "text": [
      " NIGA\n"
     ]
    },
    {
     "name": "stdout",
     "output_type": "stream",
     "text": [
      "Succeed!\n",
      "game over\n"
     ]
    }
   ],
   "source": [
    "Result = \"NIGA\"\n",
    "health = 4\n",
    "while health != 0:\n",
    "    text = str(input())\n",
    "    if text == Result:\n",
    "        print(\"Succeed!\")\n",
    "        health = 0\n",
    "    else:\n",
    "        health -= 1\n",
    "print(\"game over\")"
   ]
  },
  {
   "cell_type": "markdown",
   "id": "0eee8f73-657b-48bc-b976-1b91b75963e8",
   "metadata": {},
   "source": [
    "# 23. ?의 배수이면서 ?보다 큰 수만 출력하는 코드를 작성하세요.\n",
    "# 변수명: 자유"
   ]
  },
  {
   "cell_type": "code",
   "execution_count": 82,
   "id": "c6126246-cf49-4af1-aca9-d79eed881512",
   "metadata": {},
   "outputs": [
    {
     "name": "stdin",
     "output_type": "stream",
     "text": [
      " 6\n"
     ]
    },
    {
     "name": "stdout",
     "output_type": "stream",
     "text": [
      "12\n",
      "18\n",
      "24\n",
      "30\n",
      "36\n",
      "42\n",
      "48\n",
      "54\n",
      "60\n",
      "66\n",
      "72\n",
      "78\n",
      "84\n",
      "90\n",
      "96\n"
     ]
    }
   ],
   "source": [
    "x = int(input())\n",
    "for i in range(0, 100):\n",
    "    if (i % x == 0) and (x < i):\n",
    "        print(i)"
   ]
  },
  {
   "cell_type": "markdown",
   "id": "b934f210-cf66-4442-89cf-e59911ad7651",
   "metadata": {},
   "source": [
    "#  24.1부터 숫자를 더해 n 이상이 되는 시점을 찾으세요.\n",
    "# 변수명: 자유"
   ]
  },
  {
   "cell_type": "code",
   "execution_count": 85,
   "id": "24f0eebd-d625-4d33-b6d3-1842417c9ab9",
   "metadata": {},
   "outputs": [
    {
     "name": "stdin",
     "output_type": "stream",
     "text": [
      " 25\n"
     ]
    },
    {
     "name": "stdout",
     "output_type": "stream",
     "text": [
      "26\n"
     ]
    }
   ],
   "source": [
    "n = int(input())\n",
    "for i in range(n+1):\n",
    "    i+=1\n",
    "print(i)"
   ]
  },
  {
   "cell_type": "markdown",
   "id": "d976836f-8e98-4ce3-a1fd-ec23bb412151",
   "metadata": {},
   "source": [
    "# 25. 1부터 까지 홀수만 출력하는 코드를 continue를 사용해 작성하세요.\n",
    "# 변수명: 자유"
   ]
  },
  {
   "cell_type": "code",
   "execution_count": 93,
   "id": "dd79a82d-b621-4b4f-9130-14173ad7a3a3",
   "metadata": {},
   "outputs": [
    {
     "name": "stdout",
     "output_type": "stream",
     "text": [
      "2\n",
      "4\n",
      "6\n",
      "8\n",
      "10\n",
      "12\n",
      "14\n",
      "16\n",
      "18\n",
      "20\n",
      "22\n",
      "24\n",
      "26\n",
      "28\n",
      "30\n",
      "32\n",
      "34\n",
      "36\n",
      "38\n",
      "40\n",
      "42\n",
      "44\n",
      "46\n",
      "48\n",
      "50\n",
      "52\n",
      "54\n",
      "56\n",
      "58\n",
      "60\n",
      "62\n",
      "64\n",
      "66\n",
      "68\n",
      "70\n",
      "72\n",
      "74\n",
      "76\n",
      "78\n",
      "80\n",
      "82\n",
      "84\n",
      "86\n",
      "88\n",
      "90\n",
      "92\n",
      "94\n",
      "96\n",
      "98\n"
     ]
    }
   ],
   "source": [
    "num1 = 0\n",
    "for i in range(1, 100):\n",
    "    if not i % 2:\n",
    "        print(i)\n",
    "    else:\n",
    "        continue\n",
    "        \n",
    "    "
   ]
  },
  {
   "cell_type": "markdown",
   "id": "a7c00a5c-6b01-481f-bd5a-9ccd9eb91e50",
   "metadata": {},
   "source": [
    "# 26. 임의의 금지 숫자를 스킵하는 코드를 작성하세요.\n",
    "# 0을 입력하면 종료 할수있게 하세요.\n",
    "# 변수면: 자유"
   ]
  },
  {
   "cell_type": "code",
   "execution_count": null,
   "id": "9d92f7c4-fc40-421c-abb1-34fa9b6e6b00",
   "metadata": {},
   "outputs": [
    {
     "name": "stdin",
     "output_type": "stream",
     "text": [
      " 666\n",
      " 2\n"
     ]
    },
    {
     "name": "stdout",
     "output_type": "stream",
     "text": [
      "2\n"
     ]
    }
   ],
   "source": [
    "fbi = 666\n",
    "while x != 0:\n",
    "    x = int(input())\n",
    "    if fbi == x:\n",
    "        continue\n",
    "    else:\n",
    "        print(x)"
   ]
  },
  {
   "cell_type": "markdown",
   "id": "4521b2c1-94d6-46f0-886f-94371e21c565",
   "metadata": {},
   "source": [
    "# 27. 숫자 중 5의 배수만 누적 코드를 작성하세요. 0을 입력하면 종료되게하세요.\n",
    "# 변수명: 자유"
   ]
  },
  {
   "cell_type": "code",
   "execution_count": null,
   "id": "f44c3e6d-9fed-409c-ba6c-bae3b7b7bca7",
   "metadata": {},
   "outputs": [],
   "source": []
  },
  {
   "cell_type": "markdown",
   "id": "817a1bc9-2804-46d3-a186-a39f0b380a6c",
   "metadata": {},
   "source": [
    "# 28. import로 random을 불러와서 함수 한번씩 다 써보기\n",
    "# radom(), randrange(),randinit(),choice(), shuffle()"
   ]
  },
  {
   "cell_type": "code",
   "execution_count": null,
   "id": "abdc4a52-ab55-4c7e-bfd2-f6fafb7ceab1",
   "metadata": {},
   "outputs": [],
   "source": []
  },
  {
   "cell_type": "markdown",
   "id": "af63cf60-064c-4cd3-98eb-c47c3e022191",
   "metadata": {},
   "source": [
    "# 29. 슬롯머신을 만드세요."
   ]
  },
  {
   "cell_type": "code",
   "execution_count": null,
   "id": "3a448441-2236-45a3-979d-c9fc6c8f9425",
   "metadata": {},
   "outputs": [],
   "source": [
    "coin = 2500\n",
    "print(\"-=Slot Machine=- we checkin....\")\n",
    "print(\"-=Slot Machine=-\", \"your coin:\",coin)\n",
    "lost = int(input(\"Write Will U Lost: \"))\n",
    "1"
   ]
  },
  {
   "cell_type": "markdown",
   "id": "8b849248-aa53-4428-b419-8866b5673ea4",
   "metadata": {},
   "source": [
    "# 30. 끝말잇기를 만드세요."
   ]
  },
  {
   "cell_type": "code",
   "execution_count": null,
   "id": "e537794a-1942-4af1-a732-f04958e2b418",
   "metadata": {},
   "outputs": [],
   "source": []
  }
 ],
 "metadata": {
  "kernelspec": {
   "display_name": "Python 3 (ipykernel)",
   "language": "python",
   "name": "python3"
  },
  "language_info": {
   "codemirror_mode": {
    "name": "ipython",
    "version": 3
   },
   "file_extension": ".py",
   "mimetype": "text/x-python",
   "name": "python",
   "nbconvert_exporter": "python",
   "pygments_lexer": "ipython3",
   "version": "3.12.4"
  }
 },
 "nbformat": 4,
 "nbformat_minor": 5
}
